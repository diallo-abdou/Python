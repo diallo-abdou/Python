{
 "cells": [
  {
   "cell_type": "markdown",
   "metadata": {},
   "source": [
    "# CC2 PLS2"
   ]
  },
  {
   "cell_type": "code",
   "execution_count": 120,
   "metadata": {},
   "outputs": [],
   "source": [
    "matrix = [\n",
    "[0, 11, 4, -1, -8, 0],\n",
    "[0, 4, 9, 5, 0, -12],\n",
    "[-1, 0, -3, 8, 0, 1]\n",
    "]\n"
   ]
  },
  {
   "cell_type": "markdown",
   "metadata": {},
   "source": [
    "# 1 Filter the matrix\n"
   ]
  },
  {
   "cell_type": "code",
   "execution_count": 121,
   "metadata": {},
   "outputs": [
    {
     "name": "stdout",
     "output_type": "stream",
     "text": [
      "[[0, 1], [1, 2], [1, 5]]\n"
     ]
    }
   ],
   "source": [
    "def filter_mat(matrix, thresh):\n",
    "    coord = []\n",
    "    for row in range(len(matrix)):\n",
    "        for col in range(len(matrix[0])):\n",
    "            val = matrix[row][col]\n",
    "            if abs(val) >= thresh:\n",
    "                coord.append([row, col])\n",
    "    return coord\n",
    "\n",
    "print(filter_mat(matrix, 9))\n",
    "\n"
   ]
  },
  {
   "cell_type": "markdown",
   "metadata": {},
   "source": [
    "# 2 Strongest interaction\n"
   ]
  },
  {
   "cell_type": "code",
   "execution_count": 122,
   "metadata": {},
   "outputs": [
    {
     "name": "stdout",
     "output_type": "stream",
     "text": [
      "(0, 1)\n",
      "(1, 3)\n",
      "None\n"
     ]
    }
   ],
   "source": [
    "def strongest(matrix, fact_row, gene_col):\n",
    "    vois = [\n",
    "        (fact_row - 1, gene_col),  \n",
    "        (fact_row + 1, gene_col),  \n",
    "        (fact_row, gene_col - 1),  \n",
    "        (fact_row, gene_col + 1),  \n",
    "    ]\n",
    "    inter_max = matrix[fact_row][gene_col]\n",
    "    coord_max = (fact_row, gene_col)\n",
    "\n",
    "    for row, col in vois:\n",
    "        if 0 <= row < len(matrix) and 0 <= col < len(matrix[0]):\n",
    "            inter_vois = matrix[row][col]\n",
    "            if inter_vois >= inter_max:\n",
    "                inter_max = inter_vois\n",
    "                coord_max = (row, col)\n",
    "\n",
    "    if coord_max != (fact_row, gene_col):\n",
    "        return coord_max\n",
    "    else:\n",
    "        return None\n",
    "\n",
    "print(strongest(matrix, 1, 1))"
   ]
  },
  {
   "cell_type": "markdown",
   "metadata": {},
   "source": [
    "# 3 Interaction visualization\n"
   ]
  },
  {
   "cell_type": "code",
   "execution_count": 123,
   "metadata": {},
   "outputs": [
    {
     "name": "stdout",
     "output_type": "stream",
     "text": [
      ".Ppmm.\n",
      ".ppp.M\n",
      "m.mp.p\n",
      "\n"
     ]
    }
   ],
   "source": [
    "def str_mat(matrix):\n",
    "    resultat = \"\"\n",
    "    for ligne in matrix:\n",
    "        for valeur in ligne:\n",
    "            if valeur < -10:\n",
    "                resultat += \"M\"\n",
    "            if valeur < -0.9 and valeur > -11:\n",
    "                resultat += \"m\"\n",
    "            if valeur == 0:\n",
    "                resultat += \".\"\n",
    "            if 1 <= valeur  and valeur <= 10:\n",
    "                resultat += \"p\"\n",
    "            if valeur > 10:\n",
    "                resultat += \"P\"\n",
    "        \n",
    "        resultat += \"\\n\" \n",
    "    \n",
    "    return resultat\n",
    "\n",
    "print(str_mat(matrix))\n",
    "\n",
    "\n"
   ]
  },
  {
   "cell_type": "markdown",
   "metadata": {},
   "source": [
    "# 2 Triangle Area calculation\n",
    "## 4 Triangle area"
   ]
  },
  {
   "cell_type": "code",
   "execution_count": 124,
   "metadata": {},
   "outputs": [
    {
     "name": "stdout",
     "output_type": "stream",
     "text": [
      "6.0\n",
      "34.12068754802577\n"
     ]
    }
   ],
   "source": [
    "def tri_area(a, b, c):\n",
    "    from math import sqrt\n",
    "    p = (a + b + c) / 2\n",
    "    aire = sqrt (p * (p - a) * (p - b) * (p - c))\n",
    "    return aire\n",
    "\n",
    "print(tri_area(4, 3, 5))\n",
    "print(tri_area(7.5, 9.1, 11.7)) \n",
    "\n"
   ]
  },
  {
   "cell_type": "markdown",
   "metadata": {},
   "source": [
    "## 5 Average area of triangles\n"
   ]
  },
  {
   "cell_type": "code",
   "execution_count": 125,
   "metadata": {},
   "outputs": [
    {
     "name": "stdout",
     "output_type": "stream",
     "text": [
      "20.060343774012885\n",
      "70.41823900767419\n"
     ]
    }
   ],
   "source": [
    "def avg_tri_area(tri_list):\n",
    "    tot = 0\n",
    "    for triangle in tri_list:\n",
    "        a, b, c = triangle\n",
    "        tot += tri_area(a, b, c)\n",
    "    av  = tot / len(tri_list)\n",
    "    return av\n",
    "\n",
    "print(avg_tri_area([(4,3,5),(7.5, 9.1, 11.7)]))\n",
    "print(avg_tri_area([(4,3,5),(7.5, 9.1, 11.7),(20, 30, 45), (3.1, 2, 2.5)]))\n"
   ]
  }
 ],
 "metadata": {
  "kernelspec": {
   "display_name": "Python 3",
   "language": "python",
   "name": "python3"
  },
  "language_info": {
   "codemirror_mode": {
    "name": "ipython",
    "version": 3
   },
   "file_extension": ".py",
   "mimetype": "text/x-python",
   "name": "python",
   "nbconvert_exporter": "python",
   "pygments_lexer": "ipython3",
   "version": "3.11.5"
  }
 },
 "nbformat": 4,
 "nbformat_minor": 2
}
