{
 "cells": [
  {
   "cell_type": "markdown",
   "metadata": {},
   "source": [
    "guillaume.collet@univ-rennes.fr\n",
    "\n",
    "caractere d'echappement \\\" ou \\n, ça change \n",
    "\n",
    "Pour que qlq chose and tous doit etre vrai et ca donne vrai\n",
    "\n",
    "le or au moins un des truc est vrai\n",
    "\n",
    "A \tB\tA AND B\t\tA OR B\n",
    "T\tT\tT\t\tT\n",
    "T\tF\tF\t\tT\n",
    "F\tT\tF\t\tT\n",
    "F\tF\tF\t\tF\n",
    "\n",
    "\n",
    "Quatre chose:\n",
    "liste: des [], peu se repeter, n'importe quoi,  ordonnée et ça commence a 0\n",
    "tuple: des (), n'impote quoi, non modifiable, ça sert a python, travail interne de python\n",
    "Ensemble =set: pas de repetition des {}, un tas d'élément, non ordonné contrairement aux liste, clé de hash et permet de savoir rapidment si un element appartient à l'ensemble, impossible de mettre une liste dans un set\n",
    "dico= des {} des , les clé se comporte comme un ensemble donc en desordre et modifiable: info qualitatif associé a une valeur \n",
    "\n"
   ]
  },
  {
   "cell_type": "code",
   "execution_count": 2,
   "metadata": {},
   "outputs": [
    {
     "name": "stdout",
     "output_type": "stream",
     "text": [
      "[0, 2, 4, 6, 8]\n"
     ]
    }
   ],
   "source": [
    "a = []\n",
    "for k in range(1,10,2):\n",
    "    a.append(k-1)\n",
    "print(a)"
   ]
  },
  {
   "cell_type": "markdown",
   "metadata": {},
   "source": [
    "Installation et importation des library"
   ]
  },
  {
   "cell_type": "code",
   "execution_count": 5,
   "metadata": {},
   "outputs": [
    {
     "name": "stderr",
     "output_type": "stream",
     "text": [
      "ic| 3\n"
     ]
    },
    {
     "data": {
      "text/plain": [
       "3"
      ]
     },
     "execution_count": 5,
     "metadata": {},
     "output_type": "execute_result"
    }
   ],
   "source": [
    "import icecream\n",
    "\n",
    "icecream.ic(3)\n",
    "\n",
    "#from icecream import ic"
   ]
  },
  {
   "cell_type": "markdown",
   "metadata": {},
   "source": [
    "Ou bien on fait"
   ]
  },
  {
   "cell_type": "code",
   "execution_count": 6,
   "metadata": {},
   "outputs": [
    {
     "name": "stderr",
     "output_type": "stream",
     "text": [
      "ic| 3\n"
     ]
    },
    {
     "data": {
      "text/plain": [
       "3"
      ]
     },
     "execution_count": 6,
     "metadata": {},
     "output_type": "execute_result"
    }
   ],
   "source": [
    "from icecream import ic\n",
    "ic(3)"
   ]
  },
  {
   "cell_type": "code",
   "execution_count": 18,
   "metadata": {},
   "outputs": [
    {
     "name": "stdout",
     "output_type": "stream",
     "text": [
      "my_string contains 12 characters\n"
     ]
    }
   ],
   "source": [
    "my_string = \"first string\"\n",
    "print(\"my_string contains \" + str(len(my_string)) + \" characters\") "
   ]
  }
 ],
 "metadata": {
  "kernelspec": {
   "display_name": "Python 3",
   "language": "python",
   "name": "python3"
  },
  "language_info": {
   "codemirror_mode": {
    "name": "ipython",
    "version": 3
   },
   "file_extension": ".py",
   "mimetype": "text/x-python",
   "name": "python",
   "nbconvert_exporter": "python",
   "pygments_lexer": "ipython3",
   "version": "3.11.5"
  }
 },
 "nbformat": 4,
 "nbformat_minor": 2
}
