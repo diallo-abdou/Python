{
 "cells": [
  {
   "cell_type": "markdown",
   "metadata": {},
   "source": [
    "# Notes générale\n",
    "guillaume.collet@univ-rennes.fr\n",
    "\n",
    "caractere d'echappement \\\" ou \\n, ça change \n",
    "\n",
    "Pour que qlq chose and tous doit etre vrai et ca donne vrai\n",
    "\n",
    "le or au moins un des truc est vrai\n",
    "\n",
    "A \tB\tA AND B\t\tA OR B\n",
    "T\tT\tT\t\tT\n",
    "T\tF\tF\t\tT\n",
    "F\tT\tF\t\tT\n",
    "F\tF\tF\t\tF\n",
    "\n",
    "\n",
    "Quatre chose:\n",
    "\n",
    "liste: des [], peu se repeter, n'importe quoi,  ordonnée et ça commence a 0\n",
    "\n",
    "tuple: des (), n'impote quoi, non modifiable, ça sert a python, travail interne de python\n",
    "\n",
    "Ensemble =set: pas de repetition des {}, un tas d'élément, non ordonné contrairement aux liste, clé de hash et permet de savoir rapidment si un element appartient à l'ensemble, impossible de mettre une liste dans un set.\n",
    "\n",
    "dico= des {} des , les clé se comporte comme un ensemble donc en desordre et modifiable: info qualitatif associé a une valeur \n",
    "\n"
   ]
  },
  {
   "cell_type": "markdown",
   "metadata": {},
   "source": [
    "# Installation et importation des library"
   ]
  },
  {
   "cell_type": "markdown",
   "metadata": {},
   "source": [
    "## Methode 1"
   ]
  },
  {
   "cell_type": "code",
   "execution_count": 5,
   "metadata": {},
   "outputs": [
    {
     "name": "stderr",
     "output_type": "stream",
     "text": [
      "ic| 3\n"
     ]
    },
    {
     "data": {
      "text/plain": [
       "3"
      ]
     },
     "execution_count": 5,
     "metadata": {},
     "output_type": "execute_result"
    }
   ],
   "source": [
    "import icecream\n",
    "\n",
    "icecream.ic(3)\n",
    "\n"
   ]
  },
  {
   "cell_type": "markdown",
   "metadata": {},
   "source": [
    "## Methode 2"
   ]
  },
  {
   "cell_type": "code",
   "execution_count": 6,
   "metadata": {},
   "outputs": [
    {
     "name": "stderr",
     "output_type": "stream",
     "text": [
      "ic| 3\n"
     ]
    },
    {
     "data": {
      "text/plain": [
       "3"
      ]
     },
     "execution_count": 6,
     "metadata": {},
     "output_type": "execute_result"
    }
   ],
   "source": [
    "from icecream import ic\n",
    "ic(3)"
   ]
  },
  {
   "cell_type": "markdown",
   "metadata": {},
   "source": [
    "# 2 ieme partie\n",
    "\n",
    "Il faudrait installé Anaconda, savoir utilisé anaconda, jupyter est pas mal aussi pour  faire du notbook python (en gros du markdown).\n",
    "L'inconveniant est qu'on ne pourrait pas tout convertir en script python après.\n",
    "\n",
    "Conda sert à installé des logicie: conda install nom_logicie\n",
    "\n",
    "pip est logicile qui permet d'installé des modules: pip install nom_module"
   ]
  },
  {
   "cell_type": "code",
   "execution_count": 3,
   "metadata": {},
   "outputs": [
    {
     "name": "stdout",
     "output_type": "stream",
     "text": [
      "[0, 0, 0, 0, 0, 0, 0, 0, 0, 0]\n",
      "[0, 0, 0, 0, 0, 0, 0, 0, 0, 0]\n",
      "[0, 0, 0, 0, 0, 0, 0, 0, 0, 0]\n",
      "[0, 0, 0, 0, 0, 0, 0, 0, 0, 0]\n",
      "[0, 0, 0, 0, 0, 0, 0, 0, 0, 0]\n",
      "[0, 0, 0, 0, 0, 0, 0, 0, 0, 0]\n",
      "[0, 0, 0, 0, 0, 0, 0, 0, 0, 0]\n",
      "[0, 0, 0, 0, 0, 0, 0, 0, 0, 0]\n",
      "[0, 0, 0, 0, 0, 0, 0, 0, 0, 0]\n",
      "[0, 0, 0, 0, 0, 0, 0, 0, 0, 0]\n"
     ]
    }
   ],
   "source": [
    "# Define the number of rows and columns for your matrix\n",
    "num_rows = 10\n",
    "num_columns = 10\n",
    "\n",
    "# Create a matrix with initial values set to 0 using list comprehensions\n",
    "matrix = [[0] * num_columns for _ in range(num_rows)]\n",
    "\n",
    "def test():\n",
    "    \n",
    "# Print the resulting matrix\n",
    "for row in matrix:\n",
    "    print(row)\n"
   ]
  },
  {
   "cell_type": "markdown",
   "metadata": {},
   "source": [
    "# NOTE TP 2: Correction forest_fire\n",
    "\n",
    "On peut utilisé sys\n"
   ]
  },
  {
   "cell_type": "code",
   "execution_count": 1,
   "metadata": {},
   "outputs": [
    {
     "name": "stdout",
     "output_type": "stream",
     "text": [
      "['c:\\\\Users\\\\diall\\\\AppData\\\\Local\\\\Programs\\\\Python\\\\Python311\\\\Lib\\\\site-packages\\\\ipykernel_launcher.py', '--f=c:\\\\Users\\\\diall\\\\AppData\\\\Roaming\\\\jupyter\\\\runtime\\\\kernel-v2-48104rx35sG5fm0YP.json']\n"
     ]
    },
    {
     "ename": "ValueError",
     "evalue": "invalid literal for int() with base 10: '--f=c:\\\\Users\\\\diall\\\\AppData\\\\Roaming\\\\jupyter\\\\runtime\\\\kernel-v2-48104rx35sG5fm0YP.json'",
     "output_type": "error",
     "traceback": [
      "\u001b[1;31m---------------------------------------------------------------------------\u001b[0m",
      "\u001b[1;31mValueError\u001b[0m                                Traceback (most recent call last)",
      "\u001b[1;32mc:\\Users\\diall\\OneDrive\\Bureau\\M2 MODE\\Python\\CM1.ipynb Cell 10\u001b[0m line \u001b[0;36m5\n\u001b[0;32m      <a href='vscode-notebook-cell:/c%3A/Users/diall/OneDrive/Bureau/M2%20MODE/Python/CM1.ipynb#X12sZmlsZQ%3D%3D?line=0'>1</a>\u001b[0m \u001b[39mimport\u001b[39;00m \u001b[39msys\u001b[39;00m\n\u001b[0;32m      <a href='vscode-notebook-cell:/c%3A/Users/diall/OneDrive/Bureau/M2%20MODE/Python/CM1.ipynb#X12sZmlsZQ%3D%3D?line=2'>3</a>\u001b[0m \u001b[39mprint\u001b[39m(sys\u001b[39m.\u001b[39margv)\n\u001b[1;32m----> <a href='vscode-notebook-cell:/c%3A/Users/diall/OneDrive/Bureau/M2%20MODE/Python/CM1.ipynb#X12sZmlsZQ%3D%3D?line=4'>5</a>\u001b[0m WI\u001b[39m=\u001b[39m\u001b[39mint\u001b[39;49m(sys\u001b[39m.\u001b[39;49margv[\u001b[39m1\u001b[39;49m])\n\u001b[0;32m      <a href='vscode-notebook-cell:/c%3A/Users/diall/OneDrive/Bureau/M2%20MODE/Python/CM1.ipynb#X12sZmlsZQ%3D%3D?line=5'>6</a>\u001b[0m HE\u001b[39m=\u001b[39m\u001b[39mint\u001b[39m(sys\u001b[39m.\u001b[39margv[\u001b[39m2\u001b[39m])\n",
      "\u001b[1;31mValueError\u001b[0m: invalid literal for int() with base 10: '--f=c:\\\\Users\\\\diall\\\\AppData\\\\Roaming\\\\jupyter\\\\runtime\\\\kernel-v2-48104rx35sG5fm0YP.json'"
     ]
    }
   ],
   "source": [
    "import sys\n",
    "\n",
    "print(sys.argv)\n",
    "\n",
    "WI=int(sys.argv[1])\n",
    "HE=int(sys.argv[2])"
   ]
  },
  {
   "cell_type": "markdown",
   "metadata": {},
   "source": [
    "ou input"
   ]
  },
  {
   "cell_type": "code",
   "execution_count": null,
   "metadata": {},
   "outputs": [],
   "source": [
    "import sys\n",
    "HE=int(input(\"largeuer\"))\n",
    "print(HE)"
   ]
  },
  {
   "cell_type": "markdown",
   "metadata": {},
   "source": [
    "Mais le plut élégant est d'utilisé agreparse\n",
    "\n",
    "**On peut faire un boucle sur l'interface commande**\n",
    "**Quand on est bloqué sur l'IC on peut taper ctrl + c pour sortire\n",
    "ce code : [0 for _ in range(width)] est équivalent [0]*width\n",
    "\n",
    "range exclu la valeur de fin\n",
    "randit inclu la valeur de fin\n",
    "\n",
    "pprint(xxxx)\n",
    "shuffle(xxxx) permet de melangé une liste (xxxx)\n",
    ".choisis() peut prendre des doublons alors .sample prend des unique"
   ]
  },
  {
   "cell_type": "markdown",
   "metadata": {},
   "source": [
    "# Range ()\n",
    "range(stop)\n",
    "range(start, stop)\n",
    "range(start, stop, step)"
   ]
  },
  {
   "cell_type": "code",
   "execution_count": null,
   "metadata": {},
   "outputs": [],
   "source": [
    "print(range(10))\n",
    "\n",
    "print(range(2,10))\n",
    "\n",
    "print(range(2,10,2))"
   ]
  },
  {
   "cell_type": "code",
   "execution_count": null,
   "metadata": {},
   "outputs": [],
   "source": [
    "liste= range(5)\n",
    "\n",
    "for i in liste:\n",
    "    print(i)\n",
    "print(\"******************************\")\n",
    "for i in range(2,5):\n",
    "    print(i)"
   ]
  },
  {
   "cell_type": "code",
   "execution_count": null,
   "metadata": {},
   "outputs": [],
   "source": [
    "liste = list(range(5))\n",
    "print(liste)\n",
    "\n",
    "liste = list(range(2,10,2))\n",
    "print(liste)"
   ]
  },
  {
   "cell_type": "markdown",
   "metadata": {},
   "source": [
    "# Matrice"
   ]
  },
  {
   "cell_type": "code",
   "execution_count": 45,
   "metadata": {},
   "outputs": [
    {
     "name": "stdout",
     "output_type": "stream",
     "text": [
      "[0, 0, 0, 0, 0]\n",
      "[0, 0, 0, 0, 0]\n",
      "[0, 0, 0, 0, 0]\n",
      "[0, 0, 0, 0, 0]\n",
      "[0, 0, 0, 0, 0]\n",
      "[0, 0, 0, 0, 0]\n",
      "6\n",
      "5\n",
      "********************\n",
      "6\n",
      "5\n",
      "[[0 0 0 0 0]\n",
      " [0 0 0 0 0]\n",
      " [0 0 0 0 0]\n",
      " [0 0 0 0 0]\n",
      " [0 0 0 0 0]\n",
      " [0 0 0 0 0]]\n"
     ]
    }
   ],
   "source": [
    "matrice= [  [0 for _ in range(5)]  for _ in range (6)]\n",
    "\n",
    "for i in matrice:\n",
    "    print(i)\n",
    "\n",
    "print(len(matrice))\n",
    "print(len(matrice[0]))\n",
    "print(\"********************\")\n",
    "import numpy as np\n",
    "np_matrice=np.array(matrice)\n",
    "print(len(np_matrice))\n",
    "print(len(np_matrice[0]))\n",
    "print(np_matrice)\n",
    "\n",
    "for row in range(len(matrice)):\n",
    "    #print(\"la ligne est: \",row)\n",
    "    for col in range(len(matrice)-1):\n",
    "        #print(\"la colonne est: \", col)\n",
    "        if matrice[row][col]==0:\n",
    "            matrice[row][col]= 55\n",
    "\n",
    "    \n"
   ]
  },
  {
   "cell_type": "code",
   "execution_count": 70,
   "metadata": {},
   "outputs": [
    {
     "ename": "TypeError",
     "evalue": "'int' object is not iterable",
     "output_type": "error",
     "traceback": [
      "\u001b[1;31m---------------------------------------------------------------------------\u001b[0m",
      "\u001b[1;31mTypeError\u001b[0m                                 Traceback (most recent call last)",
      "\u001b[1;32mc:\\Users\\diall\\OneDrive\\Bureau\\M2 MODE\\Python\\CM1.ipynb Cell 20\u001b[0m line \u001b[0;36m4\n\u001b[0;32m      <a href='vscode-notebook-cell:/c%3A/Users/diall/OneDrive/Bureau/M2%20MODE/Python/CM1.ipynb#X41sZmlsZQ%3D%3D?line=0'>1</a>\u001b[0m \u001b[39mfrom\u001b[39;00m \u001b[39mrandom\u001b[39;00m \u001b[39mimport\u001b[39;00m randint\n\u001b[1;32m----> <a href='vscode-notebook-cell:/c%3A/Users/diall/OneDrive/Bureau/M2%20MODE/Python/CM1.ipynb#X41sZmlsZQ%3D%3D?line=3'>4</a>\u001b[0m \u001b[39mfor\u001b[39;49;00m i \u001b[39min\u001b[39;49;00m randint(\u001b[39m0\u001b[39;49m,\u001b[39m10\u001b[39;49m):\n\u001b[0;32m      <a href='vscode-notebook-cell:/c%3A/Users/diall/OneDrive/Bureau/M2%20MODE/Python/CM1.ipynb#X41sZmlsZQ%3D%3D?line=4'>5</a>\u001b[0m     \u001b[39mprint\u001b[39;49m(i)\n",
      "\u001b[1;31mTypeError\u001b[0m: 'int' object is not iterable"
     ]
    }
   ],
   "source": [
    "from random import randint\n",
    "\n",
    "\n",
    "for i in randint(0,10):\n",
    "    print(i)\n",
    "    \n",
    "\n",
    "def ma_function (a,b,c):\n",
    "    \"\"\""
   ]
  }
 ],
 "metadata": {
  "kernelspec": {
   "display_name": "Python 3",
   "language": "python",
   "name": "python3"
  },
  "language_info": {
   "codemirror_mode": {
    "name": "ipython",
    "version": 3
   },
   "file_extension": ".py",
   "mimetype": "text/x-python",
   "name": "python",
   "nbconvert_exporter": "python",
   "pygments_lexer": "ipython3",
   "version": "3.11.5"
  }
 },
 "nbformat": 4,
 "nbformat_minor": 2
}
