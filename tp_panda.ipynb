{
 "cells": [
  {
   "cell_type": "markdown",
   "metadata": {},
   "source": [
    "# TP 3 PYTHON AVEC PANDA"
   ]
  },
  {
   "cell_type": "code",
   "execution_count": 256,
   "metadata": {},
   "outputs": [],
   "source": [
    "import pandas as pd\n",
    "from timeit import default_timer"
   ]
  },
  {
   "cell_type": "code",
   "execution_count": 257,
   "metadata": {},
   "outputs": [],
   "source": [
    "def calc_dist (gstart,gstop,rstart,rstop):\n",
    "    if gstart > rstop:\n",
    "        return gstart - rstop\n",
    "    if rstart > gstop:\n",
    "        return rstart - gstop\n",
    "    return 0"
   ]
  },
  {
   "cell_type": "markdown",
   "metadata": {},
   "source": [
    "Tâche 1 : Pour importer la liste des gènes, utilisez la fonction pd.read_csv de pandas\n",
    "pour lire le fichier gene1.bed. Cette fonction renvoie un dataframe pandas que vous allez\n",
    "stocker dans une variable nommée df_gene. Dans un premier temps, pour vérifier que\n",
    "tout est bien importé, faite un print du dataframe."
   ]
  },
  {
   "cell_type": "code",
   "execution_count": 258,
   "metadata": {},
   "outputs": [
    {
     "name": "stdout",
     "output_type": "stream",
     "text": [
      "       0         1         2         3  4\n",
      "0  chr19  58858171  58864865      A1BG  -\n",
      "1  chr19  58863335  58866549  A1BG-AS1  +\n",
      "2  chr10  52559168  52645435      A1CF  -\n",
      "3  chr12   9220303   9268558       A2M  -\n",
      "4  chr12   9217773   9220651   A2M-AS1  +\n",
      "5  chr12   9381129   9386803     A2MP1  -\n",
      "6   chr1  33772367  33786699   A3GALT2  -\n"
     ]
    }
   ],
   "source": [
    "df_gene = pd.read_csv('gene1.bed', delimiter = \"\\t\",header=None)\n",
    "\n",
    "print(df_gene)\n",
    "#df_gene.columns=[\"Chromosome\",\"start\",\"stop\",\"name\",\"starnd\"]\n",
    "#print(df_gene)"
   ]
  },
  {
   "cell_type": "markdown",
   "metadata": {},
   "source": [
    "Tâche 2 : Si tout s’est bien passé, le dataframe contient 5 colonnes : chromosome,\n",
    "start, stop, name, strand. Nous n’avons pas besoin de la dernière colonne (celle avec des\n",
    "+ et des -), vous allez donc garder uniquement les 4 premières."
   ]
  },
  {
   "cell_type": "code",
   "execution_count": 259,
   "metadata": {},
   "outputs": [
    {
     "name": "stdout",
     "output_type": "stream",
     "text": [
      "       0         1         2         3\n",
      "0  chr19  58858171  58864865      A1BG\n",
      "1  chr19  58863335  58866549  A1BG-AS1\n",
      "2  chr10  52559168  52645435      A1CF\n",
      "3  chr12   9220303   9268558       A2M\n",
      "4  chr12   9217773   9220651   A2M-AS1\n",
      "5  chr12   9381129   9386803     A2MP1\n",
      "6   chr1  33772367  33786699   A3GALT2\n"
     ]
    }
   ],
   "source": [
    "#df_gene.info()\n",
    "#df_gene.shape\n",
    "\n",
    "df_gene_2 = df_gene.iloc[:,0:4] # equivalent df_gene_2 = df_gene[range(4)]\n",
    "print(df_gene_2)"
   ]
  },
  {
   "cell_type": "markdown",
   "metadata": {},
   "source": [
    "Tâche 3 : Un des intérêts des dataframes, c’est de pouvoir nommer les colonnes au\n",
    "lieu d’utiliser des index. Vous devez changer les noms des colonnes par : ”Chromosome”,\n",
    "”GeneStart”, ”GeneStop”, ”GeneName”.\n"
   ]
  },
  {
   "cell_type": "code",
   "execution_count": 260,
   "metadata": {},
   "outputs": [
    {
     "name": "stdout",
     "output_type": "stream",
     "text": [
      "  Chromosome  GeneStart  GeneStop  GeneName\n",
      "0      chr19   58858171  58864865      A1BG\n",
      "1      chr19   58863335  58866549  A1BG-AS1\n",
      "2      chr10   52559168  52645435      A1CF\n",
      "3      chr12    9220303   9268558       A2M\n",
      "4      chr12    9217773   9220651   A2M-AS1\n",
      "5      chr12    9381129   9386803     A2MP1\n",
      "6       chr1   33772367  33786699   A3GALT2\n"
     ]
    }
   ],
   "source": [
    "df_gene_2.columns=[\"Chromosome\",\"GeneStart\", \"GeneStop\", \"GeneName\"]\n",
    "print(df_gene_2)"
   ]
  },
  {
   "cell_type": "markdown",
   "metadata": {},
   "source": [
    "Tâche 4 : Maintenant que vous avez le dataframe pour les gènes, faites la même chose\n",
    "pour le dataframe des régions à partir du fichier region1.bed."
   ]
  },
  {
   "cell_type": "code",
   "execution_count": 261,
   "metadata": {},
   "outputs": [
    {
     "name": "stdout",
     "output_type": "stream",
     "text": [
      "       0       1       2                   3\n",
      "0   chr1   17391   17658      NMP_smallReg_1\n",
      "1   chr1  713752  714675      NMP_smallReg_2\n",
      "2  chr12  213837  214283  NMP_smallReg_37343\n",
      "3  chr12  215203  215711  NMP_smallReg_37344\n",
      "4  chr19  479604  480182  NMP_smallReg_51196\n",
      "  Chromosome  RegionStart  RegionStop          RegionName\n",
      "0       chr1        17391       17658      NMP_smallReg_1\n",
      "1       chr1       713752      714675      NMP_smallReg_2\n",
      "2      chr12       213837      214283  NMP_smallReg_37343\n",
      "3      chr12       215203      215711  NMP_smallReg_37344\n",
      "4      chr19       479604      480182  NMP_smallReg_51196\n"
     ]
    }
   ],
   "source": [
    "df_region=pd.read_csv('region1.bed', delimiter = \"\\t\",header=None)\n",
    "print(df_region)\n",
    "\n",
    "df_region.columns=[\"Chromosome\",\"RegionStart\", \"RegionStop\", \"RegionName\"]\n",
    "\n",
    "print(df_region)"
   ]
  },
  {
   "cell_type": "markdown",
   "metadata": {},
   "source": [
    "Tâche 5 : Grâce à l’attribut shape, récupérez le nombre de lignes et le nombre de\n",
    "colonnes pour les deux dataframes. Vous les nommerez nb_gene_row, nb_gene_col,\n",
    "nb_region_row et nb_region_col. Vous pouvez ainsi vérifier que vous avez bien 4 colonnes dans chaque dataframe. Nous nous servirons du nombre de lignes plus loin."
   ]
  },
  {
   "cell_type": "code",
   "execution_count": 262,
   "metadata": {},
   "outputs": [
    {
     "name": "stdout",
     "output_type": "stream",
     "text": [
      "7 4\n",
      "5 4\n"
     ]
    }
   ],
   "source": [
    "nb_gene_row, nb_gene_col = df_gene_2.shape\n",
    "nb_region_row, nb_region_col = df_region.shape\n",
    "\n",
    "print(nb_gene_row, nb_gene_col)\n",
    "print(nb_region_row, nb_region_col)\n"
   ]
  },
  {
   "cell_type": "markdown",
   "metadata": {},
   "source": [
    "# 2 Énumération des gènes et des régions avec des boucles\n",
    "\n",
    "Tâche 6 : Il faut maintenant énumérer les gènes et les régions afin de calculer leurs distances. Pour cela, nous allons avoir besoin de passer sur chaque ligne de chaque dataframe. Proposez un bout de code qui affiche les paires (gène, région) par leurs noms. Indice : Il va falloir faire deux boucles imbriquées et un test pour savoir si on est sur\n",
    "le même chromosome."
   ]
  },
  {
   "cell_type": "code",
   "execution_count": 263,
   "metadata": {},
   "outputs": [
    {
     "name": "stdout",
     "output_type": "stream",
     "text": [
      "  Chromosome  GeneStart  GeneStop  GeneName\n",
      "0      chr19   58858171  58864865      A1BG\n",
      "1      chr19   58863335  58866549  A1BG-AS1\n",
      "2      chr10   52559168  52645435      A1CF\n",
      "3      chr12    9220303   9268558       A2M\n",
      "4      chr12    9217773   9220651   A2M-AS1\n",
      "5      chr12    9381129   9386803     A2MP1\n",
      "6       chr1   33772367  33786699   A3GALT2\n",
      "  Chromosome  RegionStart  RegionStop          RegionName\n",
      "0       chr1        17391       17658      NMP_smallReg_1\n",
      "1       chr1       713752      714675      NMP_smallReg_2\n",
      "2      chr12       213837      214283  NMP_smallReg_37343\n",
      "3      chr12       215203      215711  NMP_smallReg_37344\n",
      "4      chr19       479604      480182  NMP_smallReg_51196\n"
     ]
    }
   ],
   "source": [
    "print(df_gene_2)\n",
    "print(df_region)"
   ]
  },
  {
   "cell_type": "code",
   "execution_count": 264,
   "metadata": {},
   "outputs": [
    {
     "name": "stdout",
     "output_type": "stream",
     "text": [
      "chr19\n",
      "chr19\n",
      "chr10\n",
      "chr12\n",
      "chr12\n",
      "chr12\n"
     ]
    }
   ],
   "source": [
    "#start_time = default_timer()\n",
    "for gen in df_gene.iloc[0:6:,0]:\n",
    "    print(gen)\n",
    "    #print(df_gene_2.iloc[gen])\n",
    "    \n"
   ]
  },
  {
   "cell_type": "code",
   "execution_count": 265,
   "metadata": {},
   "outputs": [
    {
     "data": {
      "text/html": [
       "<div>\n",
       "<style scoped>\n",
       "    .dataframe tbody tr th:only-of-type {\n",
       "        vertical-align: middle;\n",
       "    }\n",
       "\n",
       "    .dataframe tbody tr th {\n",
       "        vertical-align: top;\n",
       "    }\n",
       "\n",
       "    .dataframe thead th {\n",
       "        text-align: right;\n",
       "    }\n",
       "</style>\n",
       "<table border=\"1\" class=\"dataframe\">\n",
       "  <thead>\n",
       "    <tr style=\"text-align: right;\">\n",
       "      <th></th>\n",
       "      <th>Chromosome</th>\n",
       "      <th>GeneStart</th>\n",
       "      <th>GeneStop</th>\n",
       "      <th>GeneName</th>\n",
       "    </tr>\n",
       "  </thead>\n",
       "  <tbody>\n",
       "    <tr>\n",
       "      <th>0</th>\n",
       "      <td>chr19</td>\n",
       "      <td>58858171</td>\n",
       "      <td>58864865</td>\n",
       "      <td>A1BG</td>\n",
       "    </tr>\n",
       "  </tbody>\n",
       "</table>\n",
       "</div>"
      ],
      "text/plain": [
       "  Chromosome  GeneStart  GeneStop GeneName\n",
       "0      chr19   58858171  58864865     A1BG"
      ]
     },
     "execution_count": 265,
     "metadata": {},
     "output_type": "execute_result"
    }
   ],
   "source": [
    "df_gene_2.iloc[0]# affiche en colonne\n",
    "df_gene_2.iloc[[0]] # affiche en linge"
   ]
  },
  {
   "cell_type": "code",
   "execution_count": 266,
   "metadata": {},
   "outputs": [
    {
     "name": "stdout",
     "output_type": "stream",
     "text": [
      "0\n",
      "1\n",
      "2\n",
      "3\n",
      "4\n"
     ]
    }
   ],
   "source": [
    "for gen in df_gene.iloc[range(4)]:\n",
    "    print(gen)\n"
   ]
  },
  {
   "cell_type": "markdown",
   "metadata": {},
   "source": [
    "# 3 Énumération des gènes et des régions avec des group_by\n",
    "Pandas peut nous aider car elle possède la fonction group_by ! Cette fonction permet\n",
    "de faire des sous-groupes en fonction d’un critère, dans notre cas la colonne \"Chromosome\".\n",
    "Ainsi, un sous-groupe est un dataframe ne contenant que les lignes ayant le même chro\u0002mosome.\n",
    "\n",
    "Tâche 9 : Créez un ensemble de groupes pour les gènes d’un côté et les régions de l’autre\n",
    "en utilisant la fonction group_by sur la colonne \"Chromosome\". Pour vous habituer à\n",
    "manipuler le résultat, essayez d’afficher les groupes ainsi créés.#"
   ]
  },
  {
   "cell_type": "code",
   "execution_count": 267,
   "metadata": {},
   "outputs": [
    {
     "name": "stdout",
     "output_type": "stream",
     "text": [
      "<pandas.core.groupby.generic.DataFrameGroupBy object at 0x000001CD7C277250>\n",
      "  Chromosome  GeneStart  GeneStop GeneName\n",
      "6       chr1   33772367  33786699  A3GALT2\n",
      "  Chromosome  GeneStart  GeneStop GeneName\n",
      "2      chr10   52559168  52645435     A1CF\n",
      "  Chromosome  GeneStart  GeneStop GeneName\n",
      "3      chr12    9220303   9268558      A2M\n",
      "4      chr12    9217773   9220651  A2M-AS1\n",
      "5      chr12    9381129   9386803    A2MP1\n",
      "  Chromosome  GeneStart  GeneStop  GeneName\n",
      "0      chr19   58858171  58864865      A1BG\n",
      "1      chr19   58863335  58866549  A1BG-AS1\n"
     ]
    }
   ],
   "source": [
    "\n",
    "g_gen= df_gene_2.groupby(\"Chromosome\")\n",
    "print(g_gen)\n",
    "for ind, sub_group in g_gen:\n",
    "    #print(ind)\n",
    "    print(sub_group)\n",
    "    \n",
    "    \n",
    "g_region = df_region.groupby(\"Chromosome\")"
   ]
  },
  {
   "cell_type": "markdown",
   "metadata": {},
   "source": [
    "Tâche 10 : À partir des groupes ainsi créés, essayez d’énumérer les paires gène-région,\n",
    "comptez les et mesurez le temps pris. Sur les fichiers de 300 lignes, cela ne devrait pas\n",
    "dépasser le 1/10 de seconde."
   ]
  },
  {
   "cell_type": "code",
   "execution_count": 268,
   "metadata": {},
   "outputs": [
    {
     "name": "stdout",
     "output_type": "stream",
     "text": [
      "  Chromosome  GeneStart  GeneStop GeneName\n",
      "6       chr1   33772367  33786699  A3GALT2\n",
      "  Chromosome  GeneStart  GeneStop GeneName\n",
      "3      chr12    9220303   9268558      A2M\n",
      "4      chr12    9217773   9220651  A2M-AS1\n",
      "5      chr12    9381129   9386803    A2MP1\n",
      "  Chromosome  GeneStart  GeneStop  GeneName\n",
      "0      chr19   58858171  58864865      A1BG\n",
      "1      chr19   58863335  58866549  A1BG-AS1\n",
      "le temps totale est:  0.0062609000015072525\n",
      "{'chr1': array([0, 1], dtype=int64), 'chr12': array([2, 3], dtype=int64), 'chr19': array([4], dtype=int64)}\n",
      "{'chr1': array([0, 1], dtype=int64), 'chr12': array([2, 3], dtype=int64), 'chr19': array([4], dtype=int64)}\n"
     ]
    }
   ],
   "source": [
    "debu=default_timer()\n",
    "for chrom, subgroup in g_region:\n",
    "    #print(\"pour le \",chrom)\n",
    "    print(g_gen.get_group(chrom))\n",
    "fin=default_timer()\n",
    "print(\"le temps totale est: \", fin - debu)\n",
    "\n",
    "\n",
    "print(g_region.indices)\n",
    "print(g_region.indices)\n"
   ]
  },
  {
   "cell_type": "code",
   "execution_count": 269,
   "metadata": {},
   "outputs": [
    {
     "name": "stdout",
     "output_type": "stream",
     "text": [
      "le nombre de paire est:  10\n",
      "{('A2M-AS1', 'NMP_smallReg_37343'), ('A2M-AS1', 'NMP_smallReg_37344'), ('A1BG-AS1', 'NMP_smallReg_51196'), ('A3GALT2', 'NMP_smallReg_2'), ('A2M', 'NMP_smallReg_37344'), ('A2M', 'NMP_smallReg_37343'), ('A1BG', 'NMP_smallReg_51196'), ('A2MP1', 'NMP_smallReg_37344'), ('A2MP1', 'NMP_smallReg_37343'), ('A3GALT2', 'NMP_smallReg_1')}\n"
     ]
    }
   ],
   "source": [
    "paire_group = set()\n",
    "nb_pair=0\n",
    "for chrom in g_gen.indices:\n",
    "    if chrom in g_region.indices:\n",
    "        sub_gen=g_gen.get_group(chrom)\n",
    "        sub_region=g_region.get_group(chrom)\n",
    "        gen_row, gen_col =sub_gen.shape\n",
    "        reg_row, reg_col =sub_region.shape\n",
    "        for r_row in range(reg_row):\n",
    "            region_name = sub_region.iloc[r_row][\"RegionName\"]\n",
    "            for g_row in range(gen_row):\n",
    "                gen_name = sub_gen.iloc[g_row][\"GeneName\"]\n",
    "                nb_pair+=1\n",
    "                paire_group.add((gen_name,region_name))\n",
    "\n",
    "print(\"le nombre de paire est: \",nb_pair)\n",
    "print(paire_group)\n",
    "\n"
   ]
  },
  {
   "cell_type": "markdown",
   "metadata": {},
   "source": [
    "# 4 Calculer les distances\n",
    "aintenant que vous énumérez efficacement les paires gène-région, vous devez calculer la distance qui les sépare. Pour rappel, si le gène et la région se touchent ou se superposent, la distance est 0. Sinon, il faut calculer la distance entre les bords les plus\n",
    "proches, c-à-d GeneStart - RegionStop si le gène est à droite de la région, ou RegionStart\n",
    "- GeneStop si le gène est à gauche de la région. N’affichez peut-être pas les distances\n",
    "pour les gros fichiers, ça va prendre un temps fou.\n",
    "\n"
   ]
  },
  {
   "cell_type": "code",
   "execution_count": 272,
   "metadata": {},
   "outputs": [
    {
     "name": "stdout",
     "output_type": "stream",
     "text": [
      "le nombre de paire est:  10\n",
      "{('A2M-AS1', 'NMP_smallReg_37343'), ('A2M-AS1', 'NMP_smallReg_37344'), ('A1BG-AS1', 'NMP_smallReg_51196'), ('A3GALT2', 'NMP_smallReg_2'), ('A2M', 'NMP_smallReg_37344'), ('A2M', 'NMP_smallReg_37343'), ('A1BG', 'NMP_smallReg_51196'), ('A2MP1', 'NMP_smallReg_37344'), ('A2MP1', 'NMP_smallReg_37343'), ('A3GALT2', 'NMP_smallReg_1')}\n",
      "58383153\n"
     ]
    }
   ],
   "source": [
    "nb_gene_row, nb_gene_col = df_gene_2.shape\n",
    "nb_region_row, nb_region_col = df_region.shape\n",
    "\n",
    "paire_group = set()\n",
    "nb_pair=0\n",
    "for chrom in g_gen.indices:\n",
    "    if chrom in g_region.indices:\n",
    "        sub_gen=g_gen.get_group(chrom)\n",
    "        sub_region=g_region.get_group(chrom)\n",
    "        gen_row, gen_col =sub_gen.shape\n",
    "        reg_row, reg_col =sub_region.shape\n",
    "        for r_row in range(reg_row):\n",
    "            region_name = sub_region.iloc[r_row][\"RegionName\"]\n",
    "            region_start = sub_region.iloc[r_row][\"RegionStart\"]\n",
    "            region_stop = sub_region.iloc[r_row][\"RegionStop\"]\n",
    "            for g_row in range(gen_row):\n",
    "                gen_name = sub_gen.iloc[g_row][\"GeneName\"]\n",
    "                gen_start = sub_gen.iloc[g_row][\"GeneStart\"]\n",
    "                gen_stop = sub_gen.iloc[g_row][\"GeneStop\"]\n",
    "                nb_pair+=1\n",
    "                paire_group.add((gen_name,region_name))\n",
    "                distance=calc_dist(gen_start,gen_stop,region_start, region_stop)\n",
    "\n",
    "print(\"le nombre de paire est: \",nb_pair)\n",
    "print(paire_group)\n",
    "print(distance)\n",
    "\n"
   ]
  },
  {
   "cell_type": "markdown",
   "metadata": {},
   "source": [
    "iterrows permet d'aller plus vite car il prend l'indice de la ligne et la ligne elle meme "
   ]
  },
  {
   "cell_type": "code",
   "execution_count": 274,
   "metadata": {},
   "outputs": [
    {
     "name": "stdout",
     "output_type": "stream",
     "text": [
      "le nombre de paire est:  10\n",
      "{('A2M-AS1', 'NMP_smallReg_37343'), ('A2M-AS1', 'NMP_smallReg_37344'), ('A1BG-AS1', 'NMP_smallReg_51196'), ('A3GALT2', 'NMP_smallReg_2'), ('A2M', 'NMP_smallReg_37344'), ('A2M', 'NMP_smallReg_37343'), ('A1BG', 'NMP_smallReg_51196'), ('A2MP1', 'NMP_smallReg_37344'), ('A2MP1', 'NMP_smallReg_37343'), ('A3GALT2', 'NMP_smallReg_1')}\n",
      "58383153\n"
     ]
    }
   ],
   "source": [
    "nb_gene_row, nb_gene_col = df_gene_2.shape\n",
    "nb_region_row, nb_region_col = df_region.shape\n",
    "\n",
    "paire_group = set()\n",
    "nb_pair=0\n",
    "for chrom in g_gen.indices:\n",
    "    if chrom in g_region.indices:\n",
    "        sub_gen=g_gen.get_group(chrom)\n",
    "        sub_region=g_region.get_group(chrom)\n",
    "        for r_row, region_line in sub_region.iterrows():\n",
    "            region_name = region_line[\"RegionName\"]\n",
    "            region_start = region_line[\"RegionStart\"]\n",
    "            region_stop = region_line[\"RegionStop\"]\n",
    "            for g_row, gene_line in sub_gen.iterrows():\n",
    "                gen_name = gene_line[\"GeneName\"]\n",
    "                gen_start = gene_line[\"GeneStart\"]\n",
    "                gen_stop = gene_line[\"GeneStop\"]\n",
    "                nb_pair+=1\n",
    "                paire_group.add((gen_name,region_name))\n",
    "                distance=calc_dist(gen_start,gen_stop,region_start, region_stop)\n",
    "\n",
    "print(\"le nombre de paire est: \",nb_pair)\n",
    "print(paire_group)\n",
    "print(distance)\n",
    "\n"
   ]
  },
  {
   "cell_type": "markdown",
   "metadata": {},
   "source": [
    "# Merge data"
   ]
  },
  {
   "cell_type": "code",
   "execution_count": 282,
   "metadata": {},
   "outputs": [
    {
     "name": "stdout",
     "output_type": "stream",
     "text": [
      "{9003490, 9006020, 58377989, 9165418, 9002062, 9004592, 58383153, 33754709, 33057692, 9166846}\n"
     ]
    }
   ],
   "source": [
    "dist = set()\n",
    "nb_pair=0\n",
    "for chrom in g_gen.indices:\n",
    "    if chrom in g_region.indices:\n",
    "        sub_gen=g_gen.get_group(chrom)\n",
    "        #print(sub_gen)\n",
    "        sub_region=g_region.get_group(chrom)\n",
    "        #print(sub_region)\n",
    "        sub_df = pd.merge(sub_region,sub_gen, how='left', on='Chromosome')\n",
    "        #print(sub_df)\n",
    "        for line, contenu_line in sub_df.iterrows():\n",
    "            region_start = contenu_line[\"RegionStart\"]\n",
    "            region_stop = contenu_line[\"RegionStop\"]\n",
    "            gen_start = contenu_line[\"GeneStart\"]\n",
    "            gen_stop = contenu_line[\"GeneStop\"]\n",
    "            distance=calc_dist(gen_start,gen_stop,region_start, region_stop)\n",
    "            dist.add((distance))\n",
    "            \n",
    "print(dist)"
   ]
  },
  {
   "cell_type": "markdown",
   "metadata": {},
   "source": [
    "Avec Apply"
   ]
  },
  {
   "cell_type": "code",
   "execution_count": null,
   "metadata": {},
   "outputs": [],
   "source": [
    "dist = set()\n",
    "nb_pair=0\n",
    "for chrom in g_gen.indices:\n",
    "    if chrom in g_region.indices:\n",
    "        sub_gen=g_gen.get_group(chrom)\n",
    "        #print(sub_gen)\n",
    "        sub_region=g_region.get_group(chrom)\n",
    "        #print(sub_region)\n",
    "        sub_df = pd.merge(sub_region,sub_gen, how='left', on='Chromosome')\n",
    "        #print(sub_df)\n",
    "        for line, contenu_line in sub_df.iterrows():\n",
    "            region_start = contenu_line[\"RegionStart\"]\n",
    "            region_stop = contenu_line[\"RegionStop\"]\n",
    "            gen_start = contenu_line[\"GeneStart\"]\n",
    "            gen_stop = contenu_line[\"GeneStop\"]\n",
    "            distance=calc_dist(gen_start,gen_stop,region_start, region_stop)\n",
    "            sub_df['distance']= sub_df.apply(calc_dist,axis=1) # 1 = par ligne\n",
    "            dist.add((distance))\n",
    "            \n",
    "print(dist)"
   ]
  },
  {
   "cell_type": "markdown",
   "metadata": {},
   "source": [
    "a preparer \n",
    "\n",
    "iterrrows,\n",
    "apply\n",
    "travailler directement sur les colonnes (vectorisation)\n",
    "\n",
    "09h 45 à 11h15"
   ]
  },
  {
   "cell_type": "markdown",
   "metadata": {},
   "source": []
  }
 ],
 "metadata": {
  "kernelspec": {
   "display_name": "Python 3",
   "language": "python",
   "name": "python3"
  },
  "language_info": {
   "codemirror_mode": {
    "name": "ipython",
    "version": 3
   },
   "file_extension": ".py",
   "mimetype": "text/x-python",
   "name": "python",
   "nbconvert_exporter": "python",
   "pygments_lexer": "ipython3",
   "version": "3.11.5"
  }
 },
 "nbformat": 4,
 "nbformat_minor": 2
}
