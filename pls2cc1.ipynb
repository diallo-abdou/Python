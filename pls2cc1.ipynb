{
 "cells": [
  {
   "cell_type": "markdown",
   "metadata": {},
   "source": [
    "# Examen python 2"
   ]
  },
  {
   "cell_type": "code",
   "execution_count": 1,
   "metadata": {},
   "outputs": [
    {
     "name": "stdout",
     "output_type": "stream",
     "text": [
      "[(0, 2), (2, 0), (2, 2)]\n"
     ]
    }
   ],
   "source": [
    "matrix = [\n",
    "[3, 5, 12, 4, 9, 3],\n",
    "[1, 7, 9, 5, 2, 4],\n",
    "[10, 8, 23, 4, 2, 1]\n",
    "]\n",
    "\n",
    "def filter(matrix, threshold):\n",
    "    sortie = []\n",
    "    \"\"\"\n",
    "    _Input : a matrix (a list of lists) that contains int.\n",
    "    — Ouput : a list of tuple, each tuple is a pair (row,col)\n",
    "    — Print : nothing\"\"\"\n",
    "    for row in range(len(matrix)):\n",
    "        for col in range(len(matrix[0])):\n",
    "            value = matrix[row][col]\n",
    "            if value >= threshold:\n",
    "                sortie.append((row, col))\n",
    "    return sortie\n",
    "\n",
    "\n",
    "print(filter(matrix, 10))\n",
    "\n",
    "\n"
   ]
  },
  {
   "cell_type": "markdown",
   "metadata": {},
   "source": [
    "2 Peak detector (5 pts)\n"
   ]
  },
  {
   "cell_type": "code",
   "execution_count": 7,
   "metadata": {},
   "outputs": [
    {
     "ename": "IndexError",
     "evalue": "list index out of range",
     "output_type": "error",
     "traceback": [
      "\u001b[1;31m---------------------------------------------------------------------------\u001b[0m",
      "\u001b[1;31mIndexError\u001b[0m                                Traceback (most recent call last)",
      "\u001b[1;32mc:\\Users\\diall\\OneDrive\\Bureau\\M2 MODE\\Python\\pls2cc1.ipynb Cell 4\u001b[0m line \u001b[0;36m3\n\u001b[0;32m     <a href='vscode-notebook-cell:/c%3A/Users/diall/OneDrive/Bureau/M2%20MODE/Python/pls2cc1.ipynb#W3sZmlsZQ%3D%3D?line=23'>24</a>\u001b[0m     \u001b[39mreturn\u001b[39;00m peaks\n\u001b[0;32m     <a href='vscode-notebook-cell:/c%3A/Users/diall/OneDrive/Bureau/M2%20MODE/Python/pls2cc1.ipynb#W3sZmlsZQ%3D%3D?line=25'>26</a>\u001b[0m matrix \u001b[39m=\u001b[39m [\n\u001b[0;32m     <a href='vscode-notebook-cell:/c%3A/Users/diall/OneDrive/Bureau/M2%20MODE/Python/pls2cc1.ipynb#W3sZmlsZQ%3D%3D?line=26'>27</a>\u001b[0m [\u001b[39m3\u001b[39m, \u001b[39m5\u001b[39m, \u001b[39m12\u001b[39m, \u001b[39m4\u001b[39m, \u001b[39m9\u001b[39m, \u001b[39m3\u001b[39m],\n\u001b[0;32m     <a href='vscode-notebook-cell:/c%3A/Users/diall/OneDrive/Bureau/M2%20MODE/Python/pls2cc1.ipynb#W3sZmlsZQ%3D%3D?line=27'>28</a>\u001b[0m [\u001b[39m1\u001b[39m, \u001b[39m7\u001b[39m, \u001b[39m9\u001b[39m, \u001b[39m5\u001b[39m, \u001b[39m2\u001b[39m, \u001b[39m4\u001b[39m],\n\u001b[0;32m     <a href='vscode-notebook-cell:/c%3A/Users/diall/OneDrive/Bureau/M2%20MODE/Python/pls2cc1.ipynb#W3sZmlsZQ%3D%3D?line=28'>29</a>\u001b[0m [\u001b[39m10\u001b[39m, \u001b[39m8\u001b[39m, \u001b[39m23\u001b[39m, \u001b[39m4\u001b[39m, \u001b[39m2\u001b[39m, \u001b[39m1\u001b[39m]\n\u001b[0;32m     <a href='vscode-notebook-cell:/c%3A/Users/diall/OneDrive/Bureau/M2%20MODE/Python/pls2cc1.ipynb#W3sZmlsZQ%3D%3D?line=29'>30</a>\u001b[0m ]\n\u001b[1;32m---> <a href='vscode-notebook-cell:/c%3A/Users/diall/OneDrive/Bureau/M2%20MODE/Python/pls2cc1.ipynb#W3sZmlsZQ%3D%3D?line=31'>32</a>\u001b[0m \u001b[39mprint\u001b[39m(find_peaks(matrix))\n",
      "\u001b[1;32mc:\\Users\\diall\\OneDrive\\Bureau\\M2 MODE\\Python\\pls2cc1.ipynb Cell 4\u001b[0m line \u001b[0;36m1\n\u001b[0;32m     <a href='vscode-notebook-cell:/c%3A/Users/diall/OneDrive/Bureau/M2%20MODE/Python/pls2cc1.ipynb#W3sZmlsZQ%3D%3D?line=15'>16</a>\u001b[0m bas\u001b[39m=\u001b[39m matrix[row \u001b[39m+\u001b[39m \u001b[39m1\u001b[39m][col]\n\u001b[0;32m     <a href='vscode-notebook-cell:/c%3A/Users/diall/OneDrive/Bureau/M2%20MODE/Python/pls2cc1.ipynb#W3sZmlsZQ%3D%3D?line=16'>17</a>\u001b[0m gauche\u001b[39m=\u001b[39m matrix[row][col \u001b[39m-\u001b[39m \u001b[39m1\u001b[39m]\n\u001b[1;32m---> <a href='vscode-notebook-cell:/c%3A/Users/diall/OneDrive/Bureau/M2%20MODE/Python/pls2cc1.ipynb#W3sZmlsZQ%3D%3D?line=17'>18</a>\u001b[0m droite\u001b[39m=\u001b[39m matrix[row][col \u001b[39m+\u001b[39;49m \u001b[39m1\u001b[39;49m]\n\u001b[0;32m     <a href='vscode-notebook-cell:/c%3A/Users/diall/OneDrive/Bureau/M2%20MODE/Python/pls2cc1.ipynb#W3sZmlsZQ%3D%3D?line=18'>19</a>\u001b[0m vois \u001b[39m=\u001b[39m [haut, bas, gauche, droite]\n\u001b[0;32m     <a href='vscode-notebook-cell:/c%3A/Users/diall/OneDrive/Bureau/M2%20MODE/Python/pls2cc1.ipynb#W3sZmlsZQ%3D%3D?line=20'>21</a>\u001b[0m \u001b[39mif\u001b[39;00m \u001b[39mall\u001b[39m(i \u001b[39m<\u001b[39m celulle \u001b[39mfor\u001b[39;00m i \u001b[39min\u001b[39;00m vois):\n",
      "\u001b[1;31mIndexError\u001b[0m: list index out of range"
     ]
    }
   ],
   "source": [
    "def find_peaks(matrix):\n",
    "    \"\"\"\n",
    "    — Input: a matrix (a list of lists) that contains int.\n",
    "    — Output: a list of tuples, each tuple is a pair (row, col)\n",
    "    — Print: nothing\n",
    "    \"\"\"\n",
    "    peaks = []\n",
    "\n",
    "    rows = len(matrix)\n",
    "    cols = len(matrix[0])\n",
    "\n",
    "    for row in range(len(matrix)):\n",
    "        for col in range(len(matrix[0])):\n",
    "            celulle = matrix[row][col]\n",
    "            haut =matrix[row - 1][col]\n",
    "            bas= matrix[row + 1][col]\n",
    "            gauche= matrix[row][col - 1]\n",
    "            droite= matrix[row][col + 1]\n",
    "            vois = [haut, bas, gauche, droite]\n",
    "            \n",
    "            if all(i < celulle for i in vois):\n",
    "                peaks.append((row, col))\n",
    "\n",
    "    return peaks\n",
    "\n",
    "matrix = [\n",
    "[3, 5, 12, 4, 9, 3],\n",
    "[1, 7, 9, 5, 2, 4],\n",
    "[10, 8, 23, 4, 2, 1]\n",
    "]\n",
    "\n",
    "print(find_peaks(matrix))\n"
   ]
  },
  {
   "cell_type": "markdown",
   "metadata": {},
   "source": [
    "3 Peak visualization (4 pts)"
   ]
  },
  {
   "cell_type": "code",
   "execution_count": 9,
   "metadata": {},
   "outputs": [
    {
     "name": "stdout",
     "output_type": "stream",
     "text": [
      ". . P . P .\n",
      ". . . . . P\n",
      "P . P . . .\n",
      "\n",
      ". . . . . .\n",
      ". . . . . .\n",
      ". . . . . .\n",
      "\n"
     ]
    }
   ],
   "source": [
    "def str_peaks(matrix, peaks):\n",
    "    \"\"\"\n",
    "    — Input: the matrix of values and the list of peaks coordinates\n",
    "    — Output: a text (str) generated as specified\n",
    "    — Print: nothing\n",
    "    \"\"\"\n",
    "    nouvelle_matrice = [['.' for _ in range(len(matrix[0]))] for _ in range(len(matrix))]\n",
    "\n",
    "    for row, col in peaks:\n",
    "        nouvelle_matrice[row][col] = \"P\"\n",
    "    \n",
    "    translate = {'.': \".\", 'P': \"P\"}\n",
    "    result = \"\"\n",
    "    for ligne in nouvelle_matrice:\n",
    "        result += \" \".join([translate[toto] for toto in ligne]) + \"\\n\"\n",
    "        \n",
    "    return result\n",
    "\n",
    "\n",
    "matrix = [\n",
    "    [3, 5, 12, 4, 9, 3],\n",
    "    [1, 7, 9, 5, 2, 4],\n",
    "    [10, 8, 23, 4, 2, 1]\n",
    "]\n",
    "\n",
    "print(str_peaks(matrix, [(0, 2), (0, 4), (1, 5), (2, 0), (2, 2)]) )\n",
    "print(str_peaks(matrix, []))\n",
    "\n",
    "\n"
   ]
  },
  {
   "cell_type": "markdown",
   "metadata": {},
   "source": [
    "4 Distance between peaks (2 pts)\n"
   ]
  },
  {
   "cell_type": "code",
   "execution_count": 87,
   "metadata": {},
   "outputs": [
    {
     "name": "stdout",
     "output_type": "stream",
     "text": [
      "3.1622776601683795\n"
     ]
    }
   ],
   "source": [
    "import math\n",
    "\n",
    "def peak_dist(peak1, peak2):\n",
    "    x1, y1 = peak1\n",
    "    x2, y2 = peak2\n",
    "    distance = math.sqrt((x1 - x2)**2 + (y1 - y2)**2)\n",
    "    return distance\n",
    "\n",
    "\n",
    "print(peak_dist((0, 2), (1, 5)))\n"
   ]
  },
  {
   "cell_type": "markdown",
   "metadata": {},
   "source": [
    "5 Average distance between all peaks (4 pts)"
   ]
  },
  {
   "cell_type": "code",
   "execution_count": 86,
   "metadata": {},
   "outputs": [
    {
     "name": "stdout",
     "output_type": "stream",
     "text": [
      "2.8966778600794596\n"
     ]
    }
   ],
   "source": [
    "\n",
    "def avg_peak_dist(peaks):\n",
    "    distance = 0\n",
    "    nbr = 0\n",
    "\n",
    "    for i in range(len(peaks)):\n",
    "        for j in range(i + 1, len(peaks)):\n",
    "            if i != j:\n",
    "                distance += peak_dist(peaks[i], peaks[j])\n",
    "                nbr += 1\n",
    "\n",
    "    if nbr == 0:\n",
    "        return 0  \n",
    "    return    distance / nbr\n",
    "\n",
    "print(avg_peak_dist([(0, 2), (0, 4), (1, 5), (2, 0), (2, 2)]))\n",
    "\n"
   ]
  }
 ],
 "metadata": {
  "kernelspec": {
   "display_name": "Python 3",
   "language": "python",
   "name": "python3"
  },
  "language_info": {
   "codemirror_mode": {
    "name": "ipython",
    "version": 3
   },
   "file_extension": ".py",
   "mimetype": "text/x-python",
   "name": "python",
   "nbconvert_exporter": "python",
   "pygments_lexer": "ipython3",
   "version": "3.11.5"
  }
 },
 "nbformat": 4,
 "nbformat_minor": 2
}
