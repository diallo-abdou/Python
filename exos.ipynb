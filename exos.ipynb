{
 "cells": [
  {
   "cell_type": "markdown",
   "metadata": {},
   "source": [
    "# Manipulation de listes"
   ]
  },
  {
   "cell_type": "markdown",
   "metadata": {},
   "source": [
    "\n",
    "## Créez une liste de nombres et écrivez un programme pour calculer la somme de tous les nombres pairs dans la liste."
   ]
  },
  {
   "cell_type": "code",
   "execution_count": 1,
   "metadata": {},
   "outputs": [
    {
     "name": "stdout",
     "output_type": "stream",
     "text": [
      "[1, 2, 3, 4, 5, 6, 7, 8, 9]\n",
      "20\n",
      "20\n",
      "20\n"
     ]
    }
   ],
   "source": [
    "\n",
    "ma_list=list(range(1,10))\n",
    "print(ma_list)\n",
    "\n",
    "# methode 1\n",
    "somme=[]\n",
    "for i in ma_list:\n",
    "    if i%2==0:\n",
    "        somme.append(i)\n",
    "print(sum(somme))\n",
    "\n",
    "# methode 2\n",
    "print(sum (list(filter(lambda x: x%2==0,ma_list)) ))\n",
    "\n",
    "# methode 3\n",
    "ma_list = list(range(1, 10))\n",
    "resultat = sum(x for x in ma_list if x % 2 == 0)\n",
    "print(resultat)"
   ]
  },
  {
   "cell_type": "markdown",
   "metadata": {},
   "source": [
    "## Écrivez une fonction qui prend une liste de mots comme argument et renvoie une nouvelle liste contenant uniquement les mots de longueur impaire."
   ]
  },
  {
   "cell_type": "code",
   "execution_count": null,
   "metadata": {},
   "outputs": [],
   "source": []
  },
  {
   "cell_type": "markdown",
   "metadata": {},
   "source": [
    "# Exercice 2: Manipulation de matrices\n",
    "\n",
    "## Créez une matrice carrée (une liste de listes) et écrivez une fonction pour calculer la somme de la diagonale principale."
   ]
  },
  {
   "cell_type": "code",
   "execution_count": 47,
   "metadata": {},
   "outputs": [
    {
     "name": "stdout",
     "output_type": "stream",
     "text": [
      "0\n",
      "[1, 0, 0, 0]\n",
      "[1, 0, 0, 1]\n",
      "[0, 1, 1, 0]\n",
      "[0, 0, 0, 0]\n",
      "4\n",
      "la somme est : 2\n",
      "La somme est : 2\n"
     ]
    }
   ],
   "source": [
    "from random import random\n",
    "print(round(random()))\n",
    "mat_carre= [ [round(random()) for _ in range(4) ] for _ in range(4) ]\n",
    "\n",
    "for row in mat_carre:\n",
    "    print(row)\n",
    "print( len(mat_carre))\n",
    "\n",
    "# methode 1\n",
    "def sum_dia (mat):\n",
    "    dia=[]\n",
    "    for row in range(len(mat)):\n",
    "        for col in range (len(mat)):\n",
    "            if row ==col:\n",
    "                dia.append(mat[row][col])\n",
    "    print(\"la somme est :\", sum(dia))\n",
    "\n",
    "    \n",
    "\n",
    "sum_dia (mat_carre.copy())\n",
    "\n",
    "\n",
    "# methode 2\n",
    "def sum_dia(mat):\n",
    "    # Utilisation de la compréhension de liste pour obtenir les éléments de la diagonale\n",
    "    diag_elements = [mat[i][i] for i in range(len(mat))]\n",
    "    \n",
    "    #la somme des éléments de la diagonale\n",
    "    print(\"La somme est :\", sum(diag_elements))\n",
    "\n",
    "sum_dia(mat_carre.copy())"
   ]
  },
  {
   "cell_type": "markdown",
   "metadata": {},
   "source": [
    "## Écrivez une fonction qui prend deux matrices en argument et renvoie leur produit matriciel."
   ]
  },
  {
   "cell_type": "markdown",
   "metadata": {},
   "source": [
    "\n",
    "# **Exercice 3: Manipulation de dictionnaires**\n",
    "\n",
    "1. Créez un dictionnaire représentant un carnet d'adresses avec des noms et des numéros de téléphone. Écrivez une fonction pour ajouter un nouvel contact."
   ]
  },
  {
   "cell_type": "code",
   "execution_count": 62,
   "metadata": {},
   "outputs": [
    {
     "name": "stdout",
     "output_type": "stream",
     "text": [
      "{'moi': '066', 'toi': '077'}\n",
      "066\n",
      "None\n",
      "{'moi': '066', 'toi': '077', 'babe': '033'}\n"
     ]
    }
   ],
   "source": [
    "address={ \"moi\":\"066\", \"toi\":\"077\" }\n",
    "\n",
    "print(address)\n",
    "print(address[\"moi\"])\n",
    "\n",
    "print( address.get(\"066\") )\n",
    "\n",
    "# Methode 1\n",
    "def ajout_adress (dict_add, nom, num):\n",
    "    dict_add[str(nom)]= str(num)\n",
    "    print(dict_add)\n",
    "\n",
    "ajout_adress(address,\"babe\",\"033\")"
   ]
  },
  {
   "cell_type": "code",
   "execution_count": 64,
   "metadata": {},
   "outputs": [
    {
     "name": "stdout",
     "output_type": "stream",
     "text": [
      "Carnet d'adresses actuel:\n",
      "{'moi': '066', 'toi': '077'}\n",
      "Le contact baby avec le numéro 033 a été ajouté.\n",
      "Carnet d'adresses après l'ajout :\n",
      "{'moi': '066', 'toi': '077', 'baby': '033'}\n"
     ]
    }
   ],
   "source": [
    "# methode 2\n",
    "def ajout_adress(dict_add):\n",
    "    nom = input(\"Entrez le nom du contact : \")\n",
    "    num = input(\"Entrez le numéro du contact : \")\n",
    "\n",
    "    # Vérifier si le nom existe déjà dans le carnet d'adresses\n",
    "    if nom in dict_add:\n",
    "        print(\"Ce nom existe déjà dans le carnet d'adresses.\")\n",
    "    else:\n",
    "        dict_add[nom] = num\n",
    "        print(f\"Le contact {nom} avec le numéro {num} a été ajouté.\")\n",
    "\n",
    "# Initialiser le carnet d'adresses\n",
    "address = {\"moi\": \"066\", \"toi\": \"077\"}\n",
    "\n",
    "print(\"Carnet d'adresses actuel:\")\n",
    "print(address)\n",
    "\n",
    "# Appeler la fonction pour ajouter un contact\n",
    "ajout_adress(address)\n",
    "\n",
    "# Afficher le carnet d'adresses après l'ajout\n",
    "print(\"Carnet d'adresses après l'ajout :\")\n",
    "print(address)"
   ]
  },
  {
   "cell_type": "markdown",
   "metadata": {},
   "source": [
    "\n",
    "2. Écrivez une fonction qui prend un texte en entrée et compte le nombre d'occurrences de chaque mot, stockant les résultats dans un dictionnaire."
   ]
  },
  {
   "cell_type": "code",
   "execution_count": 65,
   "metadata": {},
   "outputs": [
    {
     "name": "stdout",
     "output_type": "stream",
     "text": [
      "{'ceci': 1, 'est': 2, 'un': 3, 'exemple': 1, 'de': 2, 'texte': 2, 'ensemble': 1, 'mots': 2, 'et': 1, 'les': 1, 'sont': 1, 'importants': 1}\n"
     ]
    }
   ],
   "source": [
    "def compter_occurrences(texte):\n",
    "    # Diviser le texte en mots\n",
    "    mots = texte.split()\n",
    "\n",
    "    # Initialiser un dictionnaire pour stocker les occurrences\n",
    "    occurrences = {}\n",
    "\n",
    "    # Parcourir chaque mot et compter les occurrences\n",
    "    for mot in mots:\n",
    "        # Ignorer la ponctuation en fin de mot (si présente)\n",
    "        mot = mot.strip(\".,!?()[]{}\")\n",
    "\n",
    "        # Convertir le mot en minuscules pour éviter la distinction entre majuscules et minuscules\n",
    "        mot = mot.lower()\n",
    "\n",
    "        # Mettre à jour le dictionnaire des occurrences\n",
    "        if mot in occurrences:\n",
    "            occurrences[mot] += 1\n",
    "        else:\n",
    "            occurrences[mot] = 1\n",
    "\n",
    "    return occurrences\n",
    "\n",
    "# Exemple d'utilisation\n",
    "texte = \"Ceci est un exemple de texte. Un texte est un ensemble de mots, et les mots sont importants.\"\n",
    "resultats = compter_occurrences(texte)\n",
    "print(resultats)\n"
   ]
  },
  {
   "cell_type": "markdown",
   "metadata": {},
   "source": [
    "# **Exercice 4: Combinaison de structures de données**\n",
    "\n",
    "1. Écrivez une fonction qui prend une liste de dictionnaires représentant des étudiants (nom, note) et renvoie la moyenne de chaque étudiant."
   ]
  },
  {
   "cell_type": "code",
   "execution_count": 67,
   "metadata": {},
   "outputs": [
    {
     "name": "stdout",
     "output_type": "stream",
     "text": [
      "{'Alice': 87.66666666666667, 'Bob': 85.66666666666667, 'Charlie': 92.0}\n"
     ]
    }
   ],
   "source": [
    "def calculer_moyenne_etudiants(liste_etudiants):\n",
    "    moyennes = {}  # Dictionnaire pour stocker les moyennes de chaque étudiant\n",
    "\n",
    "    for etudiant in liste_etudiants:\n",
    "        nom = etudiant.get(\"nom\")\n",
    "        notes = etudiant.get(\"notes\")\n",
    "\n",
    "        if nom and notes:\n",
    "            moyenne = sum(notes) / len(notes)  # Calcul de la moyenne\n",
    "            moyennes[nom] = moyenne\n",
    "\n",
    "    return moyennes\n",
    "\n",
    "# Exemple d'utilisation\n",
    "etudiants = [\n",
    "    {\"nom\": \"Alice\", \"notes\": [85, 90, 88]},\n",
    "    {\"nom\": \"Bob\", \"notes\": [78, 92, 87]},\n",
    "    {\"nom\": \"Charlie\", \"notes\": [92, 92, 92]},\n",
    "]\n",
    "\n",
    "resultats = calculer_moyenne_etudiants(etudiants)\n",
    "print(resultats)\n"
   ]
  },
  {
   "cell_type": "markdown",
   "metadata": {},
   "source": [
    "2. Créez une matrice représentant un tableau de bord de notes d'étudiants avec des noms de lignes et de colonnes. Écrivez une fonction pour trouver l'étudiant ayant la meilleure moyenne."
   ]
  },
  {
   "cell_type": "code",
   "execution_count": 68,
   "metadata": {},
   "outputs": [
    {
     "name": "stdout",
     "output_type": "stream",
     "text": [
      "{'nom': 'Charlie', 'moyenne': 92.0}\n"
     ]
    }
   ],
   "source": [
    "def meilleur_etudiant(matrice_notes):\n",
    "    meilleures_moyennes = {}  # Dictionnaire pour stocker les meilleures moyennes de chaque étudiant\n",
    "\n",
    "    for nom_etudiant, notes in matrice_notes.items():\n",
    "        if notes:\n",
    "            moyenne = sum(notes) / len(notes)  # Calcul de la moyenne\n",
    "            meilleures_moyennes[nom_etudiant] = moyenne\n",
    "\n",
    "    if meilleures_moyennes:\n",
    "        meilleur_nom = max(meilleures_moyennes, key=meilleures_moyennes.get)\n",
    "        meilleure_moyenne = meilleures_moyennes[meilleur_nom]\n",
    "        return {\"nom\": meilleur_nom, \"moyenne\": meilleure_moyenne}\n",
    "    else:\n",
    "        return None\n",
    "\n",
    "# Exemple d'utilisation\n",
    "tableau_de_bord = {\n",
    "    \"Alice\": [85, 90, 88],\n",
    "    \"Bob\": [78, 92, 87],\n",
    "    \"Charlie\": [92, 92, 92],\n",
    "}\n",
    "\n",
    "meilleur_etud = meilleur_etudiant(tableau_de_bord)\n",
    "print(meilleur_etud)\n"
   ]
  },
  {
   "cell_type": "markdown",
   "metadata": {},
   "source": [
    "# PANDAS"
   ]
  },
  {
   "cell_type": "code",
   "execution_count": 16,
   "metadata": {},
   "outputs": [
    {
     "name": "stdout",
     "output_type": "stream",
     "text": [
      "******************ITERACTION SUR LES LIGNE \n",
      "\n",
      "Index : 0, Nom : Alice, Age : 25, Ville : Paris\n",
      "Index : 1, Nom : Bob, Age : 30, Ville : New York\n",
      "Index : 2, Nom : Charlie, Age : 35, Ville : London\n",
      "******************ITERACTION SUR LES colonnes \n",
      "\n",
      "Nom de la colonne : Nom\n",
      "Contenu de la colonne :\n",
      "0      Alice\n",
      "1        Bob\n",
      "2    Charlie\n",
      "Name: Nom, dtype: object\n",
      "\n",
      "Nom de la colonne : Age\n",
      "Contenu de la colonne :\n",
      "0    25\n",
      "1    30\n",
      "2    35\n",
      "Name: Age, dtype: int64\n",
      "\n",
      "Nom de la colonne : Ville\n",
      "Contenu de la colonne :\n",
      "0       Paris\n",
      "1    New York\n",
      "2      London\n",
      "Name: Ville, dtype: object\n",
      "\n"
     ]
    }
   ],
   "source": [
    "import pandas as pd\n",
    "#data = pd.read_csv('data.csv')\n",
    "#print(data.head())\n",
    "\n",
    "\n",
    "data = {'Nom': ['Alice', 'Bob', 'Charlie'],\n",
    "        'Age': [25, 30, 35],\n",
    "        'Ville': ['Paris', 'New York', 'London']}\n",
    "\n",
    "df = pd.DataFrame(data)\n",
    "\n",
    "print('******************ITERACTION SUR LES LIGNE \\n')\n",
    "premiere_ligne = df.iloc[0]\n",
    "#print(\"Première ligne :\\n\", premiere_ligne)\n",
    "\n",
    "for index, row in df.iterrows():\n",
    "    print(f\"Index : {index}, Nom : {row['Nom']}, Age : {row['Age']}, Ville : {row['Ville']}\")\n",
    "\n",
    "\n",
    "\n",
    "print('******************ITERACTION SUR LES colonnes \\n')\n",
    "nom_colonne = df['Nom']\n",
    "#print(\"Colonne spécifique :\\n\", nom_colonne)\n",
    "\n",
    "for col_name, col_series in df.items():\n",
    "    print(f\"Nom de la colonne : {col_name}\")\n",
    "    print(f\"Contenu de la colonne :\\n{col_series}\\n\")\n",
    "\n"
   ]
  }
 ],
 "metadata": {
  "kernelspec": {
   "display_name": "Python 3",
   "language": "python",
   "name": "python3"
  },
  "language_info": {
   "codemirror_mode": {
    "name": "ipython",
    "version": 3
   },
   "file_extension": ".py",
   "mimetype": "text/x-python",
   "name": "python",
   "nbconvert_exporter": "python",
   "pygments_lexer": "ipython3",
   "version": "3.11.5"
  }
 },
 "nbformat": 4,
 "nbformat_minor": 2
}
